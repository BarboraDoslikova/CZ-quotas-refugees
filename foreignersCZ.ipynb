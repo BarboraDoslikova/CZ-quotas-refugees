{
 "cells": [
  {
   "cell_type": "markdown",
   "metadata": {
    "collapsed": true
   },
   "source": [
    "<h1>Should Czech people be concerned about the Syrian Refugee quota suggested by the EU?</h1><br>\n",
    "\n",
    "<h3>By Barbora Doslikova</h3><br>\n",
    "\n",
    "<h4>Czech people are worried that Syrian refugees will flood their country, use social benefits to exploit the Czech social system and use religion to influence Czech culture beyond recognition (https://www.facebook.com/ivcrn).</h4><br>\n",
    "\n",
    "<h4>The Czech Republic EU refugee quota is 1863 people (http://zpravy.aktualne.cz/zahranici/nova-zed-v-evrope-brusel-zverejnil-plan-kvot-na-uprchliky/r~204b65b4f94f11e490ae0025900fea04/).</h4>\n",
    "\n",
    "<h4>Do concerns of the Czechs have merit?</h4>"
   ]
  },
  {
   "cell_type": "markdown",
   "metadata": {
    "collapsed": false
   },
   "source": [
    "Data source: https://vdb2.czso.cz/vdbvo2/faces/index.jsf?page=vystup-objekt&evo=&str=&zo=N&pvo=CIZ08&vyhltext=&verze=-1&nahled=N&sp=N&nuid=&zs=&skupId=&katalog=31032&filtr=G~F_M~F_Z~F_R~F_P~_S~_null_null_&pvokc=&udIdent=&pvoch=&z=T#w= "
   ]
  },
  {
   "cell_type": "markdown",
   "metadata": {
    "collapsed": false
   },
   "source": [
    "Source: The Czech Statistical Office.<br>\n",
    "Data were generated & downloaded on: 25.10.2015 00:31:37<br>\n",
    "Unit: Number.<br>\n",
    "Reference time: 2004 - 2014.<br>\n",
    "Nationalities; Years.<br>"
   ]
  },
  {
   "cell_type": "markdown",
   "metadata": {},
   "source": [
    "<h3><strong>Read And Prepare The Data</strong></h3>"
   ]
  },
  {
   "cell_type": "code",
   "execution_count": 10,
   "metadata": {
    "collapsed": false
   },
   "outputs": [
    {
     "name": "stdout",
     "output_type": "stream",
     "text": [
      "   Year   Total      EU  Non-EU  Syria\n",
      "0  2004  255917   80246  175671    354\n",
      "1  2005  280111   87144  192967    378\n",
      "2  2006  323343  102886  220457    408\n",
      "3  2007  394345  131052  263293    436\n",
      "4  2008  439498  145974  293524    468\n",
      "(11, 5)\n"
     ]
    }
   ],
   "source": [
    "import pandas as pd\n",
    "\n",
    "def read_file(name='foreignersCZv2.xls'):\n",
    "    # open data direcly as pandas.core.frame.DataFrame\n",
    "    df = pd.read_excel(name)\n",
    "    return df\n",
    "\n",
    "data = read_file()\n",
    "\n",
    "print(data.head())\n",
    "\n",
    "# number of rows (11) by columns (5)\n",
    "print(data.shape)"
   ]
  },
  {
   "cell_type": "code",
   "execution_count": 11,
   "metadata": {
    "collapsed": false
   },
   "outputs": [
    {
     "name": "stdout",
     "output_type": "stream",
     "text": [
      "   Year   Total      EU  Non-EU  Syria  Non-EU - Syria\n",
      "0  2004  255917   80246  175671    354          175317\n",
      "1  2005  280111   87144  192967    378          192589\n",
      "2  2006  323343  102886  220457    408          220049\n",
      "3  2007  394345  131052  263293    436          262857\n",
      "4  2008  439498  145974  293524    468          293056\n",
      "(11, 6)\n"
     ]
    }
   ],
   "source": [
    "# calculates the 5th column\n",
    "data['Non-EU - Syria'] = data['Non-EU'] - data['Syria']\n",
    "\n",
    "print(data.head())\n",
    "print(data.shape)"
   ]
  },
  {
   "cell_type": "code",
   "execution_count": 12,
   "metadata": {
    "collapsed": false
   },
   "outputs": [
    {
     "name": "stdout",
     "output_type": "stream",
     "text": [
      "    Year   Total      EU  Syria  Non-EU - Syria\n",
      "6   2010  426423  135554    565          290304\n",
      "7   2011  436319  151425    586          284308\n",
      "8   2012  438076  160792    638          276646\n",
      "9   2013  441536  173593    825          267118\n",
      "10  2014  451923  184511    889          266523\n",
      "(11, 5)\n"
     ]
    }
   ],
   "source": [
    "# drops the now useless 'Non-EU' column\n",
    "data.drop('Non-EU',axis=1, inplace=True)\n",
    "print(data.tail())\n",
    "print(data.shape)"
   ]
  },
  {
   "cell_type": "markdown",
   "metadata": {},
   "source": [
    "<h3><strong>Visualise The Number of Foreigners Living In The Czech Republic In The Last 10 Years</strong></h3>"
   ]
  },
  {
   "cell_type": "code",
   "execution_count": 13,
   "metadata": {
    "collapsed": false,
    "scrolled": true
   },
   "outputs": [
    {
     "data": {
      "text/plain": [
       "<matplotlib.axes._subplots.AxesSubplot at 0x20416128>"
      ]
     },
     "execution_count": 13,
     "metadata": {},
     "output_type": "execute_result"
    },
    {
     "data": {
      "image/png": "[encoded data removed]",
      "text/plain": [
       "<matplotlib.figure.Figure at 0x20416860>"
      ]
     },
     "metadata": {},
     "output_type": "display_data"
    }
   ],
   "source": [
    "import matplotlib.pyplot as plt\n",
    "%matplotlib inline  \n",
    "data.plot(x='Year')"
   ]
  },
  {
   "cell_type": "markdown",
   "metadata": {},
   "source": [
    "<strong>The total number of foreigners</strong> living in the Czech Republic <strong>(blue)</strong> has increased over the last 10 years but remained constant over the last 7 years i.e. since 2008.\n",
    "\n",
    "The number of foreigners living in the Czech Republic originally <strong>from the EU (green)</strong> has increased over the last 10 years.\n",
    "\n",
    "The number of foreigners living in the Czech Republic originally <strong>from the non-EU states except for Syria (purple)</strong> has increased between 2004 and 2008 but has gone down since 2008.\n",
    "\n",
    "The number of foreigners living in the Czech Republic originally <strong>from Syria (red)</strong> cannot be easily observed at this scale."
   ]
  },
  {
   "cell_type": "code",
   "execution_count": 14,
   "metadata": {
    "collapsed": false
   },
   "outputs": [
    {
     "data": {
      "text/plain": [
       "<matplotlib.axes._subplots.AxesSubplot at 0x1a63ecc0>"
      ]
     },
     "execution_count": 14,
     "metadata": {},
     "output_type": "execute_result"
    },
    {
     "data": {
      "image/png": "[encoded data removed]",
      "text/plain": [
       "<matplotlib.figure.Figure at 0x205179e8>"
      ]
     },
     "metadata": {},
     "output_type": "display_data"
    }
   ],
   "source": [
    "data.plot(x='Year', y='Syria')"
   ]
  },
  {
   "cell_type": "markdown",
   "metadata": {},
   "source": [
    "The number of foreigners living in the Czech Republic originally <strong>from Syria</strong> has increased over the last 10 years, particularly since 2012."
   ]
  },
  {
   "cell_type": "markdown",
   "metadata": {},
   "source": [
    "<h4><strong>A. Are the data parametric?</strong></h4>"
   ]
  },
  {
   "cell_type": "code",
   "execution_count": 15,
   "metadata": {
    "collapsed": false
   },
   "outputs": [
    {
     "name": "stdout",
     "output_type": "stream",
     "text": [
      "Syria skewtest: teststat =  1.448; pvalue = 0.1477\n",
      "Syria kurtosis: teststat =  0.222; pvalue = 0.8240\n",
      "Syria normaltest: teststat =  2.145; pvalue = 0.3421\n"
     ]
    },
    {
     "data": {
      "image/png": "[encoded data removed]",
      "text/plain": [
       "<matplotlib.figure.Figure at 0x1a1d8a20>"
      ]
     },
     "metadata": {},
     "output_type": "display_data"
    }
   ],
   "source": [
    "import scipy as sc\n",
    "import scipy.stats as stats\n",
    "import pylab\n",
    "print('Syria skewtest: teststat = %6.3f; pvalue = %6.4f' % sc.stats.skewtest(data['Syria']))\n",
    "# => +1.4 = highly skewed to the left (+-0.5 = normal)\n",
    "print('Syria kurtosis: teststat = %6.3f; pvalue = %6.4f' % sc.stats.kurtosistest(data['Syria']))\n",
    "# => 0.2 = almost normal (0 = normal)(-3 = completely flat)\n",
    "print('Syria normaltest: teststat = %6.3f; pvalue = %6.4f' % sc.stats.normaltest(data['Syria']))\n",
    "# => skew & kurtosis tests combined, not normal if p is significant\n",
    "\n",
    "stats.probplot(data['Syria'], dist=\"norm\", plot=pylab)\n",
    "pylab.show()"
   ]
  },
  {
   "cell_type": "markdown",
   "metadata": {},
   "source": [
    "Numbers of foreigners with Syrian origin are parametric."
   ]
  },
  {
   "cell_type": "markdown",
   "metadata": {},
   "source": [
    "<h4><strong>B. Are the changes over time (statistically significantly) correlated?</strong></h4><br>\n",
    "<em>Use parametric Pearson's correlation test, not non-parametric Spearmen's correlation test.</em>"
   ]
  },
  {
   "cell_type": "code",
   "execution_count": 16,
   "metadata": {
    "collapsed": false
   },
   "outputs": [
    {
     "name": "stdout",
     "output_type": "stream",
     "text": [
      "Syria vs. Year: (0.95210057966581441, 6.2928250162592372e-06)\n"
     ]
    }
   ],
   "source": [
    "cor1 = stats.pearsonr(data['Syria'], data['Year'])\n",
    "print('Syria vs. Year: {0}'.format(cor1))"
   ]
  },
  {
   "cell_type": "code",
   "execution_count": 17,
   "metadata": {
    "collapsed": false
   },
   "outputs": [
    {
     "data": {
      "text/plain": [
       "<matplotlib.axes._subplots.AxesSubplot at 0x1a27c358>"
      ]
     },
     "execution_count": 17,
     "metadata": {},
     "output_type": "execute_result"
    },
    {
     "data": {
      "image/png": "[encoded data removed]",
      "text/plain": [
       "<matplotlib.figure.Figure at 0x205179b0>"
      ]
     },
     "metadata": {},
     "output_type": "display_data"
    }
   ],
   "source": [
    "import seaborn as sns\n",
    "sns.set()\n",
    "sns.set_context(\"paper\") # not talk, poster, notebook\n",
    "sns.regplot(data['Year'], data['Syria'])"
   ]
  },
  {
   "cell_type": "markdown",
   "metadata": {},
   "source": [
    "The variables are significantly correlated. The relationship is positive.<br>\n",
    "The number of Syrian foreigners in the Czech Republic has significantly increased over time."
   ]
  },
  {
   "cell_type": "markdown",
   "metadata": {},
   "source": [
    "<h3>Findings And Conclusions:</h3><br>\n",
    "<strong>Should Czech sbe worried about the EU refugee quotas?</strong><br>\n",
    "\n",
    "<strong>Foreigners of Syrian origin</strong> currently living in the Czech Republic (in 2014) represent <strong>only 0.2% of all foreigners</strong> in the country. Adding people as required by the quota would increase the percentage to <strong>0.6%</strong>.<br>\n",
    "\n",
    "Se my infographic at\n",
    "https://magic.piktochart.com/output/8778065-cz-quotas.<br>\n",
    "\n",
    "Given these numbers, <strong>NO</strong>, it is unlikely that the extra people from Syria would flood the country and exploit and influence it as the Czech people worry.<br>\n"
   ]
  }
 ],
 "metadata": {
  "kernelspec": {
   "display_name": "Python 2",
   "language": "python",
   "name": "python2"
  },
  "language_info": {
   "codemirror_mode": {
    "name": "ipython",
    "version": 2
   },
   "file_extension": ".py",
   "mimetype": "text/x-python",
   "name": "python",
   "nbconvert_exporter": "python",
   "pygments_lexer": "ipython2",
   "version": "2.7.10"
  }
 },
 "nbformat": 4,
 "nbformat_minor": 0
}
