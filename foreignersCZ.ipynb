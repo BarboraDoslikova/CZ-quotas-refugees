{
 "cells": [
  {
   "cell_type": "markdown",
   "metadata": {
    "collapsed": true
   },
   "source": [
    "<h1>Should Czech people be concerned about the Syrian Refugee quota suggested by the EU?</h1><br>\n",
    "<h3>By Barbora Doslikova</h3><br>\n",
    "<h4>Czech people are worried that Syrian refugees will flood their country.</h4><br>\n",
    "<h4>The Czech Republic EU refugee quota is 1863.</h4>\n",
    "http://zpravy.aktualne.cz/zahranici/nova-zed-v-evrope-brusel-zverejnil-plan-kvot-na-uprchliky/r~204b65b4f94f11e490ae0025900fea04/\n",
    "<h4>Do concerns of the Czechs have merit?</h4>"
   ]
  },
  {
   "cell_type": "markdown",
   "metadata": {
    "collapsed": false
   },
   "source": [
    "Data source: https://vdb2.czso.cz/vdbvo2/faces/index.jsf?page=vystup-objekt&evo=&str=&zo=N&pvo=CIZ08&vyhltext=&verze=-1&nahled=N&sp=N&nuid=&zs=&skupId=&katalog=31032&filtr=G~F_M~F_Z~F_R~F_P~_S~_null_null_&pvokc=&udIdent=&pvoch=&z=T#w= "
   ]
  },
  {
   "cell_type": "markdown",
   "metadata": {
    "collapsed": false
   },
   "source": [
    "Source: The Czech Statistical Office.<br>\n",
    "Data were generated & downloaded on: 25.10.2015 00:31:37<br>\n",
    "Unit: Number.<br>\n",
    "Reference time: 2004 - 2014.<br>\n",
    "Nationalities; Years.<br>"
   ]
  },
  {
   "cell_type": "markdown",
   "metadata": {},
   "source": [
    "<h3><strong>Read And Prepare The Data</strong></h3>"
   ]
  },
  {
   "cell_type": "code",
   "execution_count": 147,
   "metadata": {
    "collapsed": false
   },
   "outputs": [
    {
     "name": "stdout",
     "output_type": "stream",
     "text": [
      "   Year   Total      EU  Non-EU  Syria\n",
      "0  2004  255917   80246  175671    354\n",
      "1  2005  280111   87144  192967    378\n",
      "2  2006  323343  102886  220457    408\n",
      "3  2007  394345  131052  263293    436\n",
      "4  2008  439498  145974  293524    468\n",
      "(11, 5)\n"
     ]
    }
   ],
   "source": [
    "import pandas as pd\n",
    "\n",
    "def read_file(name='foreignersCZv2.xls'):\n",
    "    # open data direcly as pandas.core.frame.DataFrame\n",
    "    df = pd.read_excel(name)\n",
    "    return df\n",
    "\n",
    "data = read_file()\n",
    "\n",
    "print(data.head())\n",
    "\n",
    "# number of rows (11) by columns (5)\n",
    "print(data.shape)"
   ]
  },
  {
   "cell_type": "code",
   "execution_count": 148,
   "metadata": {
    "collapsed": false
   },
   "outputs": [
    {
     "name": "stdout",
     "output_type": "stream",
     "text": [
      "   Year   Total      EU  Non-EU  Syria  Non-EU - Syria\n",
      "0  2004  255917   80246  175671    354          175317\n",
      "1  2005  280111   87144  192967    378          192589\n",
      "2  2006  323343  102886  220457    408          220049\n",
      "3  2007  394345  131052  263293    436          262857\n",
      "4  2008  439498  145974  293524    468          293056\n",
      "(11, 6)\n"
     ]
    }
   ],
   "source": [
    "# calculates the 5th column\n",
    "data['Non-EU - Syria'] = data['Non-EU'] - data['Syria']\n",
    "\n",
    "print(data.head())\n",
    "print(data.shape)"
   ]
  },
  {
   "cell_type": "code",
   "execution_count": 149,
   "metadata": {
    "collapsed": false
   },
   "outputs": [
    {
     "name": "stdout",
     "output_type": "stream",
     "text": [
      "   Year   Total      EU  Syria  Non-EU - Syria\n",
      "0  2004  255917   80246    354          175317\n",
      "1  2005  280111   87144    378          192589\n",
      "2  2006  323343  102886    408          220049\n",
      "3  2007  394345  131052    436          262857\n",
      "4  2008  439498  145974    468          293056\n",
      "(11, 5)\n"
     ]
    }
   ],
   "source": [
    "# drops the now useless 'Non-EU' column\n",
    "data.drop('Non-EU',axis=1, inplace=True)\n",
    "print(data.head())\n",
    "print(data.shape)"
   ]
  },
  {
   "cell_type": "markdown",
   "metadata": {},
   "source": [
    "<h3><strong>Visualise The Number of Foreigners Living In The Czech Republic In The Last 10 Years</strong></h3>"
   ]
  },
  {
   "cell_type": "code",
   "execution_count": 150,
   "metadata": {
    "collapsed": false,
    "scrolled": true
   },
   "outputs": [
    {
     "data": {
      "text/plain": [
       "<matplotlib.axes._subplots.AxesSubplot at 0x25e17c18>"
      ]
     },
     "execution_count": 150,
     "metadata": {},
     "output_type": "execute_result"
    },
    {
     "data": {
      "image/png": "[encoded data removed]",
      "text/plain": [
       "<matplotlib.figure.Figure at 0x25e172e8>"
      ]
     },
     "metadata": {},
     "output_type": "display_data"
    }
   ],
   "source": [
    "import matplotlib.pyplot as plt\n",
    "%matplotlib inline  \n",
    "data.plot(x='Year')"
   ]
  },
  {
   "cell_type": "markdown",
   "metadata": {},
   "source": [
    "<strong>The total number of foreigners</strong> living in the Czech Republic <strong>(blue)</strong> has increased over the last 10 years but remained constant over the last 7 years i.e. since 2008.\n",
    "\n",
    "The number of foreigners living in the Czech Republic originally <strong>from the EU (green)</strong> has increased over the last 10 years.\n",
    "\n",
    "The number of foreigners living in the Czech Republic originally <strong>from the non-EU states except for Syria (purple)</strong> has increased between 2004 and 2008 but has gone down since 2008.\n",
    "\n",
    "The number of foreigners living in the Czech Republic originally <strong>from Syria (red)</strong> cannot be easily observed at this scale."
   ]
  },
  {
   "cell_type": "code",
   "execution_count": 151,
   "metadata": {
    "collapsed": false
   },
   "outputs": [
    {
     "data": {
      "text/plain": [
       "<matplotlib.axes._subplots.AxesSubplot at 0x25d286a0>"
      ]
     },
     "execution_count": 151,
     "metadata": {},
     "output_type": "execute_result"
    },
    {
     "data": {
      "image/png": "[encoded data removed]",
      "text/plain": [
       "<matplotlib.figure.Figure at 0x2562c860>"
      ]
     },
     "metadata": {},
     "output_type": "display_data"
    }
   ],
   "source": [
    "data.plot(x='Year', y='Syria')"
   ]
  },
  {
   "cell_type": "markdown",
   "metadata": {},
   "source": [
    "The number of foreigners living in the Czech Republic originally <strong>from Syria</strong> has increased over the last 10 years, particularly since 2012."
   ]
  },
  {
   "cell_type": "markdown",
   "metadata": {},
   "source": [
    "<h4><strong>A. Are the data parametric?</strong></h4>"
   ]
  },
  {
   "cell_type": "code",
   "execution_count": 152,
   "metadata": {
    "collapsed": false
   },
   "outputs": [
    {
     "name": "stdout",
     "output_type": "stream",
     "text": [
      "Syria skewtest: teststat =  1.448; pvalue = 0.1477\n",
      "Syria kurtosis: teststat =  0.222; pvalue = 0.8240\n",
      "Syria normaltest: teststat =  2.145; pvalue = 0.3421\n"
     ]
    },
    {
     "data": {
      "image/png": "[encoded data removed]",
      "text/plain": [
       "<matplotlib.figure.Figure at 0x252f1048>"
      ]
     },
     "metadata": {},
     "output_type": "display_data"
    }
   ],
   "source": [
    "import scipy as sc\n",
    "import scipy.stats as stats\n",
    "import pylab\n",
    "print('Syria skewtest: teststat = %6.3f; pvalue = %6.4f' % sc.stats.skewtest(data['Syria']))\n",
    "# => +1.4 = highly skewed to the left (+-0.5 = normal)\n",
    "print('Syria kurtosis: teststat = %6.3f; pvalue = %6.4f' % sc.stats.kurtosistest(data['Syria']))\n",
    "# => 0.2 = almost normal (0 = normal)(-3 = completely flat)\n",
    "print('Syria normaltest: teststat = %6.3f; pvalue = %6.4f' % sc.stats.normaltest(data['Syria']))\n",
    "# => skew & kurtosis tests combined, not normal if p is significant\n",
    "\n",
    "stats.probplot(data['Syria'], dist=\"norm\", plot=pylab)\n",
    "pylab.show()"
   ]
  },
  {
   "cell_type": "markdown",
   "metadata": {},
   "source": [
    "Numbers of foreigners with Syrian origin are parametric."
   ]
  },
  {
   "cell_type": "markdown",
   "metadata": {},
   "source": [
    "<h4><strong>B. Are the changes over time (statistically significantly) correlated?</strong></h4><br>\n",
    "<em>Use parametric Pearson's correlation test, not non-parametric Spearmen's correlation test.</em>"
   ]
  },
  {
   "cell_type": "code",
   "execution_count": 153,
   "metadata": {
    "collapsed": false
   },
   "outputs": [
    {
     "name": "stdout",
     "output_type": "stream",
     "text": [
      "Syria vs. Year: (0.95210057966581441, 6.2928250162592372e-06)\n"
     ]
    }
   ],
   "source": [
    "cor1 = stats.pearsonr(data['Syria'], data['Year'])\n",
    "print('Syria vs. Year: {0}'.format(cor1))"
   ]
  },
  {
   "cell_type": "code",
   "execution_count": 154,
   "metadata": {
    "collapsed": false
   },
   "outputs": [
    {
     "data": {
      "text/plain": [
       "<matplotlib.axes._subplots.AxesSubplot at 0x24f7ba58>"
      ]
     },
     "execution_count": 154,
     "metadata": {},
     "output_type": "execute_result"
    },
    {
     "data": {
      "image/png": "[encoded data removed]",
      "text/plain": [
       "<matplotlib.figure.Figure at 0x252a4a58>"
      ]
     },
     "metadata": {},
     "output_type": "display_data"
    }
   ],
   "source": [
    "import seaborn as sns\n",
    "sns.set()\n",
    "sns.set_context(\"paper\") # not talk, poster, notebook\n",
    "sns.regplot(data['Year'], data['Syria'])"
   ]
  },
  {
   "cell_type": "markdown",
   "metadata": {},
   "source": [
    "The variables are significantly correlated. The relationship is positive.<br>\n",
    "The number of Syrian foreigners in the Czech Republic has significantly increased over time."
   ]
  },
  {
   "cell_type": "markdown",
   "metadata": {},
   "source": [
    "<h3><strong>Answers/Findings:</strong></h3><br>\n",
    "<h4>1. Has the number of total accidents in Iceland changed over time?</h4><br>\n",
    "Yes, the number of total accidents in Iceland has significantly increased over time.<br>\n",
    "<br>\n",
    "As noted before, the 10-year period between 1990-2000 sees a spike in the number of accidents. Further analysis could attempt to determine the cause.<br>\n",
    "<br>\n",
    "<h4>2. Has the number of total fatal accidents in Iceland changed over time?</h4><br>\n",
    "Yes, the number of total fatal accidents in Iceland has significantly decreased over time. In spite of the increased number of total accidents!<br>\n",
    "<br>\n",
    "Additionally, there is a negative correlation between the number of total accidents and the number of total fatal accidents. So the fewer number of total accidents per year, the more number of total fatal accidents per year.<br>\n",
    "<br>\n",
    "Perhaps, more adventurous, accident-prone tourists have been visiting Iceland over time, while Iceland's health care has been improving?<br>\n",
    "Further analysis could attempt to determine the cause.<br>\n",
    "https://magic.piktochart.com/editor/piktochart/8778065"
   ]
  }
 ],
 "metadata": {
  "kernelspec": {
   "display_name": "Python 2",
   "language": "python",
   "name": "python2"
  },
  "language_info": {
   "codemirror_mode": {
    "name": "ipython",
    "version": 2
   },
   "file_extension": ".py",
   "mimetype": "text/x-python",
   "name": "python",
   "nbconvert_exporter": "python",
   "pygments_lexer": "ipython2",
   "version": "2.7.10"
  }
 },
 "nbformat": 4,
 "nbformat_minor": 0
}
